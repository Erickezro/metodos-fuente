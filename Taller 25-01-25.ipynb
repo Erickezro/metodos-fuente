{
 "cells": [
  {
   "cell_type": "code",
   "execution_count": 1,
   "metadata": {},
   "outputs": [],
   "source": [
    "%load_ext autoreload"
   ]
  },
  {
   "cell_type": "code",
   "execution_count": 2,
   "metadata": {},
   "outputs": [
    {
     "name": "stdout",
     "output_type": "stream",
     "text": [
      "[01-25 08:17:35][INFO] 2025-01-25 08:17:35.150493\n",
      "[01-25 08:17:35][INFO] 2025-01-25 08:17:35.492492\n"
     ]
    }
   ],
   "source": [
    "%autoreload 2\n",
    "from src import gauss_jacobi, gauss_seidel"
   ]
  },
  {
   "cell_type": "code",
   "execution_count": 13,
   "metadata": {},
   "outputs": [
    {
     "name": "stdout",
     "output_type": "stream",
     "text": [
      "[01-25 08:23:51][INFO] i= 0 x: [[1. 1.]]\n",
      "[01-25 08:23:51][INFO] i= 1 x: [[3.  1.4]]\n",
      "[01-25 08:23:51][INFO] i= 2 x: [[2.73333333 1.        ]]\n",
      "[01-25 08:23:51][INFO] i= 3 x: [[3.         1.05333333]]\n"
     ]
    },
    {
     "data": {
      "text/plain": [
       "(array([[2.96444444],\n",
       "        [1.        ]]),\n",
       " [array([[1.],\n",
       "         [1.]]),\n",
       "  array([[3. ],\n",
       "         [1.4]]),\n",
       "  array([[2.73333333],\n",
       "         [1.        ]]),\n",
       "  array([[3.        ],\n",
       "         [1.05333333]])])"
      ]
     },
     "execution_count": 13,
     "metadata": {},
     "output_type": "execute_result"
    }
   ],
   "source": [
    "A=[[3, 2],\n",
    "   [2 ,10]]\n",
    "\n",
    "b=[11 ,16]\n",
    "\n",
    "x0=[1,1]\n",
    "\n",
    "gauss_jacobi(A=A, b=b, x0=x0, tol=0.1, max_iter=10)"
   ]
  },
  {
   "cell_type": "code",
   "execution_count": null,
   "metadata": {},
   "outputs": [],
   "source": []
  }
 ],
 "metadata": {
  "kernelspec": {
   "display_name": "Python 3",
   "language": "python",
   "name": "python3"
  },
  "language_info": {
   "codemirror_mode": {
    "name": "ipython",
    "version": 3
   },
   "file_extension": ".py",
   "mimetype": "text/x-python",
   "name": "python",
   "nbconvert_exporter": "python",
   "pygments_lexer": "ipython3",
   "version": "3.12.3"
  }
 },
 "nbformat": 4,
 "nbformat_minor": 2
}
